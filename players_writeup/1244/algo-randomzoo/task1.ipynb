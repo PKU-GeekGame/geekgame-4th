{
 "cells": [
  {
   "cell_type": "code",
   "execution_count": 20,
   "metadata": {},
   "outputs": [],
   "source": [
    "import numpy as npy\n",
    "\n",
    "with open(\"2e5.out\", \"r\") as f:\n",
    "    ints = list(map(int, f.readlines()))\n",
    "MOD = 2 ** 31\n",
    "LEN = 68\n",
    "\n",
    "def mod_min_abs(x):\n",
    "    # return the integer with minimum absolute value that is congruent to x mod MOD\n",
    "    x = (x + MOD) % MOD\n",
    "    if x > MOD // 2:\n",
    "        return x - MOD\n",
    "    return x"
   ]
  },
  {
   "cell_type": "code",
   "execution_count": 21,
   "metadata": {},
   "outputs": [],
   "source": [
    "mat = npy.zeros((LEN, LEN), dtype=npy.int32)\n",
    "for i in range(LEN):\n",
    "    mat[i][i] = -1\n",
    "    mat[i][(i + LEN - 3) % LEN] = 1\n",
    "    mat[i][(i + LEN - 31) % LEN] = 1\n",
    "mat = npy.matrix(mat)"
   ]
  },
  {
   "cell_type": "code",
   "execution_count": 35,
   "metadata": {},
   "outputs": [
    {
     "name": "stdout",
     "output_type": "stream",
     "text": [
      "lag{Do_y0U_EnumeRated_A1l_SE3d5?}flag{Do_y0U_EnumeRated_A1l_SE3d5?}f\n"
     ]
    }
   ],
   "source": [
    "def pair_avg(pr):\n",
    "    return pr[0] / pr[1]\n",
    "\n",
    "def pair_inc(pr, val):\n",
    "    return (pr[0] + val, pr[1] + 1)\n",
    "\n",
    "sums = [(0, 0)] * LEN\n",
    "\n",
    "for i in range(31, len(ints)):\n",
    "    cur = i % LEN\n",
    "    lst = (i - 3) % LEN\n",
    "    llst = (i - 31) % LEN\n",
    "    delta = mod_min_abs(ints[i - 31] + ints[i - 3] - ints[i])\n",
    "    sums[cur] = pair_inc(sums[cur], delta)\n",
    "\n",
    "vec = npy.zeros((LEN, 1), dtype=npy.float64)\n",
    "for i in range(LEN):\n",
    "    vec[i][0] = pair_avg(sums[i])\n",
    "vec = npy.matrix(vec)\n",
    "\n",
    "# solve the equation mat * x = vec\n",
    "x = npy.linalg.solve(mat, vec)\n",
    "y = [int(x[i,0] + 0.5) for i in range(LEN)]\n",
    "print(bytes(y).decode())"
   ]
  },
  {
   "cell_type": "code",
   "execution_count": 36,
   "metadata": {},
   "outputs": [
    {
     "data": {
      "text/plain": [
       "53394252"
      ]
     },
     "execution_count": 36,
     "metadata": {},
     "output_type": "execute_result"
    }
   ],
   "source": [
    "import random\n",
    "random.getrandbits(32)"
   ]
  }
 ],
 "metadata": {
  "kernelspec": {
   "display_name": "Python 3",
   "language": "python",
   "name": "python3"
  },
  "language_info": {
   "codemirror_mode": {
    "name": "ipython",
    "version": 3
   },
   "file_extension": ".py",
   "mimetype": "text/x-python",
   "name": "python",
   "nbconvert_exporter": "python",
   "pygments_lexer": "ipython3",
   "version": "3.9.2"
  }
 },
 "nbformat": 4,
 "nbformat_minor": 2
}
