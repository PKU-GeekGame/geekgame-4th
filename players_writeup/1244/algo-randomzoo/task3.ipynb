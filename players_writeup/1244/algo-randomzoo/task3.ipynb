{
 "cells": [
  {
   "cell_type": "code",
   "execution_count": 11,
   "metadata": {},
   "outputs": [],
   "source": [
    "with open(\"8e5.out\", \"r\") as f:\n",
    "    ints = list(map(int, f.readlines()))\n",
    "MOD = 2 ** 32\n",
    "\n",
    "def mod_min_abs(x):\n",
    "    # return the integer with minimum absolute value that is congruent to x mod MOD\n",
    "    x = (x + MOD) % MOD\n",
    "    if x > MOD // 2:\n",
    "        return x - MOD\n",
    "    return x\n",
    "# (l[i + 607] - l[i + 334] - l[i]) % MOD = 0 / 1\n",
    "# for i in range(100):\n",
    "    # print(mod_min_abs(ints[i + 607] - ints[i + 334] - ints[i]))"
   ]
  },
  {
   "cell_type": "code",
   "execution_count": 13,
   "metadata": {},
   "outputs": [],
   "source": [
    "import numpy as npy\n",
    "LEN = 53\n",
    "\n",
    "mat = npy.zeros((LEN, LEN), dtype=npy.int32)\n",
    "for i in range(LEN):\n",
    "    mat[i][i] = -1\n",
    "    mat[i][(i + 29) % LEN] = 1 # -607\n",
    "    mat[i][(i + 45) % LEN] = 1 # -273\n",
    "mat = npy.matrix(mat)"
   ]
  },
  {
   "cell_type": "code",
   "execution_count": 14,
   "metadata": {},
   "outputs": [
    {
     "name": "stdout",
     "output_type": "stream",
     "text": [
      "fkafzL`Gfdd^f1anmacc0_gemEq`tor^cam^bd^@ts@bked_T0/|\t\n",
      "ej`eyK_Fecc]e0`ml`bb/^fdlDp_snq]b`l]ac]?sr?ajdc^S/.\n",
      "glbg{MaHgee_g2bonbdd1`hfnFraups_dbn_ce_AutAclfe`U10}\n",
      "\n",
      "di_dxJ^Edbb\\d/_lk_aa.]eckCo^rmp\\a_k\\`b\\>rq>`icb]R.-z\u0007\n"
     ]
    }
   ],
   "source": [
    "def pair_avg(pr):\n",
    "    return pr[0] / pr[1]\n",
    "\n",
    "def pair_inc(pr, val):\n",
    "    return (pr[0] + val, pr[1] + 1)\n",
    "\n",
    "sums = [(0, 0)] * LEN\n",
    "\n",
    "for i in range(607, len(ints)):\n",
    "    cur = i % LEN\n",
    "    lst = (i - 273) % LEN\n",
    "    llst = (i - 607) % LEN\n",
    "    delta = mod_min_abs(ints[i - 607] + ints[i - 273] - ints[i])\n",
    "    sums[cur] = pair_inc(sums[cur], delta)\n",
    "\n",
    "vec = npy.zeros((LEN, 1), dtype=npy.float64)\n",
    "for i in range(LEN):\n",
    "    vec[i][0] = pair_avg(sums[i])\n",
    "vec = npy.matrix(vec)\n",
    "\n",
    "# solve the equation mat * x = vec\n",
    "x = npy.linalg.solve(mat, vec)\n",
    "y = [int(x[i,0] + 0.5) for i in range(LEN)]\n",
    "print(bytes(y).decode())\n",
    "y = [int(x[i,0] - 0.5) for i in range(LEN)]\n",
    "print(bytes(y).decode())\n",
    "y = [int(x[i,0] + 1.5) for i in range(LEN)]\n",
    "print(bytes(y).decode())\n",
    "y = [int(x[i,0] - 1.5) for i in range(LEN)]\n",
    "print(bytes(y).decode())"
   ]
  }
 ],
 "metadata": {
  "kernelspec": {
   "display_name": "Python 3",
   "language": "python",
   "name": "python3"
  },
  "language_info": {
   "codemirror_mode": {
    "name": "ipython",
    "version": 3
   },
   "file_extension": ".py",
   "mimetype": "text/x-python",
   "name": "python",
   "nbconvert_exporter": "python",
   "pygments_lexer": "ipython3",
   "version": "3.9.2"
  }
 },
 "nbformat": 4,
 "nbformat_minor": 2
}
