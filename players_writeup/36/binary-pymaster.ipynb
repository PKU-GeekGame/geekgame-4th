{
 "cells": [
  {
   "cell_type": "markdown",
   "metadata": {},
   "source": [
    "## 从零开始学Python\n",
    "\n",
    "### Flag 1\n",
    "\n",
    "首先我们可以通过常识看出来，这个二进制是使用pyinstaller打包的（其它打出来都不是单文件）。我们可以用`pyinstxtractor-ng`解包，能解出一个混淆过的python文件。在里面能找到flag1.\n",
    "\n",
    "### Flag 2\n",
    "\n",
    "在解包出来的文件中，有一个random.pyc，在里面可以找到flag2.\n",
    "\n",
    "### Flag 3\n",
    "\n",
    "以下是Flag 3的尝试，我没做出来："
   ]
  },
  {
   "cell_type": "code",
   "execution_count": 1,
   "metadata": {},
   "outputs": [],
   "source": [
    "# init random with the state\n",
    "\n",
    "import random\n",
    "import base64\n",
    "\n",
    "# patched node\n",
    "\n",
    "_random_state = (3, (1838292739, 1570698365, 3277083045, 684165303, 2227848987, 2909029135, 3578001620, 4110750795, 3983027170, 693438810, 685317228, 3862522240, 1436181324, 3970721460, 1390707013, 1052188344, 1083469252, 2509179523, 3021777941, 29490473, 3408732305, 1456798608, 1104159477, 39709159, 2364697742, 1799530824, 1358771160, 3384284454, 3258110334, 2979099778, 1613017908, 3588146290, 2778389674, 2424576327, 2881193678, 656304974, 3676821381, 2552353121, 590443197, 794656300, 31424775, 2940510222, 3903666567, 3036156552, 1014725866, 2386625359, 3068837492, 4211897412, 974885906, 1532893335, 2672158075, 735220470, 1693347343, 3209765804, 3416413950, 142429458, 3873437681, 1390526276, 1247506869, 3238608635, 2145247151, 3453293604, 2901507429, 865920623, 3376304410, 1242575675, 2948560776, 767132445, 934120817, 3318748419, 876571569, 155203709, 3049688731, 1293221911, 289683268, 2225037207, 4142086899, 893875452, 945453276, 32838097, 1117653111, 2680309795, 1352779201, 1273939634, 1893575020, 903284258, 2064913699, 1388166198, 4205570161, 3974500838, 1905913549, 1419195793, 779514266, 3631214422, 278263526, 2446493226, 995368022, 419549129, 4089740776, 2070231949, 1422228375, 514932130, 3265080303, 2310031849, 2122518475, 3267228381, 99961203, 692890034, 650414006, 4277927609, 4077219270, 2646709785, 3191199866, 2334026271, 4128236419, 3764461308, 1968515301, 1519457176, 884890077, 3408226023, 2629432343, 3510640839, 1484112117, 2672912816, 1798045595, 363176518, 1047998207, 2869212448, 1141326165, 1341978861, 3304202952, 277641325, 215097538, 28936345, 2831217803, 4294680040, 3321727717, 3659402968, 2536671820, 1303810411, 896730328, 583519064, 585801959, 3988253590, 2720212043, 2922352642, 1617372997, 2503594964, 1348419837, 390583519, 3436316146, 1620550707, 1870338677, 1557110658, 4289050184, 865086190, 3093963999, 3912359628, 3391369885, 261712431, 986506134, 2474221221, 3819999141, 988298518, 1194274048, 4233931268, 465180211, 220144186, 2716453245, 3900722532, 944175925, 3912659054, 4115301953, 3650077602, 2354519354, 903885572, 4256288155, 1242039908, 401115836, 3606014566, 1736328922, 4261593488, 2015606609, 2249754192, 252224101, 3807961635, 3303104639, 2792454748, 3172422901, 2138810140, 930201260, 446306390, 2113328395, 2376223770, 2986567814, 966318779, 2431471424, 3334298813, 153498003, 290729295, 2266120885, 489607757, 3331078334, 1878678181, 1145934517, 3211656459, 960259923, 2986538404, 2511203027, 2116985201, 398852663, 3747633475, 2861787079, 1198857242, 479742005, 1096335331, 2867733625, 3104869033, 2448573452, 4275330409, 2625164387, 1499473407, 2001405635, 1724253816, 2662563570, 462138839, 2473210370, 725454085, 3722096380, 4082326235, 1024487401, 2071115185, 3533346977, 2234329006, 1659033027, 1607309410, 879605734, 1225971336, 3522869464, 2903697900, 3875850659, 1095589019, 982966821, 3555623411, 4053025172, 2704577418, 134406993, 3579338483, 554231488, 3941223891, 2368187330, 1538602478, 955849000, 2802533281, 753131520, 2881148362, 3189844455, 2724462356, 2783386195, 1251681273, 2514144121, 2879004999, 1628610517, 3737861974, 7142942, 2479398287, 1823410562, 3724065894, 4087086304, 3437199633, 919540199, 2987758325, 3712928895, 3177108662, 4188771599, 3617585223, 1622767742, 2034870351, 248967194, 1623574757, 2627790633, 25078995, 935810080, 280591976, 1477787795, 4085754377, 3455522499, 194120041, 2571315437, 3545061364, 3392387643, 1929888553, 3455241305, 2579596735, 2467651968, 1574061387, 4276015882, 1154127234, 1561872999, 918557262, 4205282094, 160558013, 3086852708, 4094471228, 3541084004, 1790677103, 1202322122, 2415130991, 1557503631, 2720729910, 876745575, 353486935, 4047320638, 4242254288, 2121548546, 1304592061, 2357926244, 2846760482, 2304403233, 3107642352, 4284766133, 1050729117, 2404047878, 3533760176, 2138089240, 3725363413, 89905612, 1886623594, 1861975831, 571866678, 925473932, 2712013290, 3368213026, 1359786662, 2350258901, 4249310337, 3134293925, 1027953095, 1959317459, 59527908, 4206457648, 3741664595, 916073542, 2791025187, 2887565222, 709136473, 362788781, 4243900469, 3844046865, 1812727973, 1215353023, 1614881980, 632021892, 1240089148, 1480708793, 2500831822, 132851951, 2084215389, 1464814825, 3152616159, 302558357, 2201157323, 3847486363, 1685047382, 380415305, 1266091428, 3079654224, 1672138539, 3143206936, 126267051, 838283487, 1734813835, 3643013627, 1339404646, 2130003564, 3380973752, 4289185515, 2903136740, 2464267476, 1200139329, 2841752401, 4273182956, 58000847, 539979885, 3553115641, 2031337955, 1773247560, 3923040988, 322576656, 1656006370, 3113178668, 1967567659, 4162366657, 4278590360, 6279142, 2051766435, 3313529443, 117647292, 1687047369, 1585122869, 2485210264, 3119606801, 619882446, 2317912001, 2326145625, 75455195, 1023854361, 549683727, 1256587214, 3546110681, 1721829741, 3022798184, 3281488503, 2810960311, 1632070599, 1475180463, 787559969, 2481345120, 2893303260, 191246457, 1049459853, 1160436759, 524138998, 984248623, 3920587102, 3187412479, 4291077402, 3387044337, 2928962122, 118920762, 2993632185, 427031408, 2353262780, 3249116391, 1138473876, 264786409, 2027252004, 2580392412, 3295452227, 3943212970, 20743905, 1587103092, 2110588122, 3004987412, 1607505445, 1847887518, 742887022, 2669861447, \n",
    "2254518128, 3406651982, 2758924254, 2519452096, 4251822760, 1327143366, 2876667457, 1721589085, 1908786480, 3923846475, 686114644, 1928956493, 3084914087, 454623570, 3566212901, 2519993500, 2188914352, 2188042136, 2832180468, 426734323, 2120499300, 1067130822, 3195838513, 1820560405, 1284070862, 4204431187, 4073388849, 3631305596, 2586085291, 316529131, 516400446, 191964869, 4229630967, 999705739, 1789684886, 3285186285, 1244649841, 2702970054, 1080276930, 106455939, 4208179608, 2323034690, 1374943411, 3155085204, 461931683, 3349473204, 2189663544, 1175092601, 891545579, 492939613, 1768208018, 548996569, 2943526733, 4062211660, 53479173, 1508494906, 2693648858, 2337296282, 1015284300, 3623386307, 1535812035, 1272293354, 1964319481, 1685320270, 1479276693, 3186503829, 263788533, 1335044034, 1729566548, 2900054746, 746990997, 581457894, 3531004222, 1520377772, 577029278, 3068671566, 3924892994, 1529038530, 68662223, 2145714455, 2471024089, 3066031649, 2053152160, 3522760002, 3122017174, 3875140275, 2523675939, 1033244967, 1060309652, 1879717820, 3263242320, 3179110055, 3525353125, 428280422, 3374664015, 2464035328, 3019217490, 185240473, 169873963, 1670308858, 4144448022, 2555379431, 1796411658, 3920966202, 2433464316, 3620099546, 4209105129, 1588898064, 1157061455, 3467886647, 2567697337, 1709046467, 3680737853, 1660536850, 1121750102, 3996465319, 697791590, 3999497080, 4158182032, 3278853563, 56852912, 2632148620, 3443807205, 3678281520, 3399807062, 3146822810, 3087016408, 634469330, 3100827906, 4230407291, 4009007364, 1800202056, 418303549, 444424833, 3068281618, 1537104403, 4028716818, 494362626, 3411423003, 3744229362, 1964347715, \n",
    "1332004899, 1877456019, 1257181321, 2518140731, 1888406527, 3106163118, 1754537450, 2729468642, 2237118096, 3442539778, 601922126, 4116121665, 165983866, 1625843239, 3499432406, 58030455, 1011136409, 1867019001, 4090421198, 453444146, 3376993390, 1910250237, 3429992583, 2539505772, 1680319221, 2710028500, 2788584152, 1626189636, 3823544824, 1255411289, 1422581704, 3877763318, 3510042703, 2585714214, 708955453, 195), None)\n",
    "\n",
    "\n",
    "def _reset_random():\n",
    "    random.setstate(_random_state)\n",
    "    \n",
    "_reset_random()"
   ]
  },
  {
   "cell_type": "code",
   "execution_count": 2,
   "metadata": {},
   "outputs": [],
   "source": [
    "class TreeNode:\n",
    "    def __init__(self, key, value):\n",
    "        self.key = key\n",
    "        self.value = value\n",
    "        self.parent = None\n",
    "        self.left = None\n",
    "        self.right = None\n",
    "\n",
    "\n",
    "class BinarySearchTree:\n",
    "    def __init__(self):\n",
    "        self.root = None\n",
    "\n",
    "    def balance_tree(self, node):\n",
    "        while node.parent is not None:\n",
    "            if node.parent.parent is None:\n",
    "                # Single rotation cases\n",
    "                if node == node.parent.right:\n",
    "                    self.rotate_left(node.parent)\n",
    "                else:\n",
    "                    self.rotate_right(node.parent)\n",
    "            elif node == node.parent.right and node.parent == node.parent.parent.right:\n",
    "                # Right-right case\n",
    "                self.rotate_left(node.parent.parent)\n",
    "                self.rotate_left(node.parent)\n",
    "            elif node == node.parent.left and node.parent == node.parent.parent.left:\n",
    "                # Left-left case\n",
    "                self.rotate_right(node.parent.parent)\n",
    "                self.rotate_right(node.parent)\n",
    "            elif node == node.parent.left and node.parent == node.parent.parent.right:\n",
    "                # Left-right case\n",
    "                self.rotate_right(node.parent)\n",
    "                self.rotate_left(node.parent)\n",
    "            else:\n",
    "                # Right-left case\n",
    "                self.rotate_left(node.parent)\n",
    "                self.rotate_right(node.parent)\n",
    "\n",
    "    def rotate_left(self, x):\n",
    "        y = x.right\n",
    "        x.right = y.left\n",
    "        if y.left is not None:\n",
    "            y.left.parent = x\n",
    "        y.parent = x.parent\n",
    "        if x.parent is None:\n",
    "            self.root = y\n",
    "        elif x == x.parent.left:\n",
    "            x.parent.left = y\n",
    "        else:\n",
    "            x.parent.right = y\n",
    "        y.left = x\n",
    "        x.parent = y\n",
    "\n",
    "    def rotate_right(self, x):\n",
    "        y = x.left\n",
    "        x.left = y.right\n",
    "        if y.right is not None:\n",
    "            y.right.parent = x\n",
    "        y.parent = x.parent\n",
    "        if x.parent is None:\n",
    "            self.root = y\n",
    "        elif x == x.parent.right:\n",
    "            x.parent.right = y\n",
    "        else:\n",
    "            x.parent.left = y\n",
    "        y.right = x\n",
    "        x.parent = y\n",
    "\n",
    "    def insert(self, key, value):\n",
    "        new_node = TreeNode(key, value)\n",
    "        current_node = self.root\n",
    "        parent_node = None\n",
    "        while current_node is not None:\n",
    "            parent_node = current_node\n",
    "            if key < current_node.key:\n",
    "                current_node = current_node.left\n",
    "            else:\n",
    "                current_node = current_node.right\n",
    "        new_node.parent = parent_node\n",
    "        if parent_node is None:\n",
    "            # Tree was empty, new node is now root.\n",
    "            self.root = new_node\n",
    "        elif key < parent_node.key:\n",
    "            parent_node.left = new_node\n",
    "        else:\n",
    "            parent_node.right = new_node\n",
    "        # After inserting the node, balance the tree.\n",
    "        self.balance_tree(new_node)\n",
    "\n",
    "_recorder = []\n",
    "def encode_tree(node):\n",
    "    s = b\"\"\n",
    "    if node is not None:\n",
    "        _a, _b = node.value, random.randint(0, 0xFF)\n",
    "        _recorder.append((_a, _b))\n",
    "        s += bytes([_a ^ _b])\n",
    "        s += encode_tree(node.left)\n",
    "        s += encode_tree(node.right)\n",
    "    return s\n",
    "\n",
    "\n",
    "def randomize_tree(tree):\n",
    "    current_node = tree.root\n",
    "    parent_node = None\n",
    "    while current_node is not None:\n",
    "        parent_node = current_node\n",
    "        if random.randint(0, 1) == 0:\n",
    "            current_node = current_node.left\n",
    "        else:\n",
    "            current_node = current_node.right\n",
    "    tree.balance_tree(parent_node)\n",
    "\n",
    "\n",
    "def main():\n",
    "    bst = BinarySearchTree()\n",
    "\n",
    "    entered_flag = input(\"Please enter the flag: \")\n",
    "    \n",
    "    # Insert every character of the flag with a random key into the BST\n",
    "    for char in entered_flag:\n",
    "        bst.insert(random.random(), ord(char))\n",
    "\n",
    "    # Randomize the tree structure 256 times\n",
    "    for _ in range(0x100):\n",
    "        randomize_tree(bst)\n",
    "        \n",
    "    # print random state\n",
    "    print('rand', random.getstate())\n",
    "    # Encode the tree and compare with the given base64 decoded string\n",
    "    encoded_data = encode_tree(bst.root)\n",
    "    print('encoded_data', encoded_data)\n",
    "    expected_data = base64.b64decode(\"7EclRYPIOsDvLuYKDPLPZi0JbLYB9bQo8CZDlFvwBY07cs6I\")\n",
    "\n",
    "    if encoded_data == expected_data:\n",
    "        print(\"You got the flag!\")\n",
    "    else:\n",
    "        print(\"Try again!\")"
   ]
  },
  {
   "cell_type": "code",
   "execution_count": 3,
   "metadata": {},
   "outputs": [
    {
     "name": "stdout",
     "output_type": "stream",
     "text": [
      "7EclRYPIOsDvLuYKDPLPZi0JbLYB9bQo8CZD\n"
     ]
    }
   ],
   "source": [
    "print(\"7EclRYPIOsDvLuYKDPLPZi0JbLYB9bQo8CZDlFvwBY07cs6I\"[:36])"
   ]
  },
  {
   "cell_type": "code",
   "execution_count": 4,
   "metadata": {},
   "outputs": [
    {
     "data": {
      "text/plain": [
       "36"
      ]
     },
     "execution_count": 4,
     "metadata": {},
     "output_type": "execute_result"
    }
   ],
   "source": [
    "import base64\n",
    "\n",
    "len(base64.b64decode(\"7EclRYPIOsDvLuYKDPLPZi0JbLYB9bQo8CZDlFvwBY07cs6I\"))"
   ]
  },
  {
   "cell_type": "code",
   "execution_count": 5,
   "metadata": {},
   "outputs": [
    {
     "name": "stdout",
     "output_type": "stream",
     "text": [
      "ABCDEFGHIJKLMNOPQRSTUVWXYZ[\\]^_`abcd\n"
     ]
    }
   ],
   "source": [
    "# generate a 36 char random flag\n",
    "import random\n",
    "flag = ''.join(chr(i + ord('A')) for i in range(36))\n",
    "print(flag)"
   ]
  },
  {
   "cell_type": "code",
   "execution_count": 6,
   "metadata": {},
   "outputs": [
    {
     "data": {
      "text/plain": [
       "36"
      ]
     },
     "execution_count": 6,
     "metadata": {},
     "output_type": "execute_result"
    }
   ],
   "source": [
    "_encoded = b'\\xb7Shw\\x83D_G\\x1fv4\\x04{\\x14\\x9b#\\x08\\x0b\\xaa%A|\\x08\\x9c\\x9b\\x01\\xf8\\xb1b\\xebz\\x1ad\\x95\\xc7.'\n",
    "len(_encoded)"
   ]
  },
  {
   "cell_type": "code",
   "execution_count": 7,
   "metadata": {},
   "outputs": [
    {
     "data": {
      "text/plain": [
       "<__main__.BinarySearchTree at 0x1bb6d69a910>"
      ]
     },
     "execution_count": 7,
     "metadata": {},
     "output_type": "execute_result"
    }
   ],
   "source": [
    "# load tree.pickle\n",
    "\n",
    "import pickle\n",
    "\n",
    "with open('tree.pickle', 'rb') as f:\n",
    "    tree = pickle.load(f)\n",
    "    \n",
    "tree"
   ]
  },
  {
   "cell_type": "code",
   "execution_count": 8,
   "metadata": {},
   "outputs": [
    {
     "name": "stdout",
     "output_type": "stream",
     "text": [
      "Root: Key: 0.16690964505705252, Value: 71\n",
      "    L--- Key: 0.15861140146802288, Value: 78\n",
      "        L--- Key: 0.09613133082653502, Value: 76\n",
      "            L--- Key: 0.08281362947288662, Value: 80\n",
      "                L--- Key: 0.06220573900297288, Value: 89\n",
      "                    L--- Key: 0.0029448847687022495, Value: 67\n",
      "                        L--- None\n",
      "                        R--- None\n",
      "                    R--- None\n",
      "                R--- None\n",
      "            R--- None\n",
      "        R--- None\n",
      "    R--- Key: 0.2327576380523938, Value: 97\n",
      "        L--- None\n",
      "        R--- Key: 0.9682725177580616, Value: 65\n",
      "            L--- Key: 0.8862812383869779, Value: 81\n",
      "                L--- Key: 0.7959287660109589, Value: 70\n",
      "                    L--- Key: 0.4408833217545034, Value: 84\n",
      "                        L--- Key: 0.30853095077693204, Value: 95\n",
      "                            L--- None\n",
      "                            R--- Key: 0.40715345417666093, Value: 91\n",
      "                                L--- Key: 0.32073858388133325, Value: 73\n",
      "                                    L--- None\n",
      "                                    R--- Key: 0.33993012688979407, Value: 94\n",
      "                                        L--- None\n",
      "                                        R--- Key: 0.4015055319469767, Value: 82\n",
      "                                            L--- Key: 0.34812311149983743, Value: 69\n",
      "                                                L--- None\n",
      "                                                R--- Key: 0.3733565477544071, Value: 72\n",
      "                                                    L--- None\n",
      "                                                    R--- None\n",
      "                                            R--- None\n",
      "                                R--- None\n",
      "                        R--- Key: 0.788736803545301, Value: 93\n",
      "                            L--- Key: 0.7810410903534767, Value: 98\n",
      "                                L--- Key: 0.4614246387113029, Value: 99\n",
      "                                    L--- None\n",
      "                                    R--- Key: 0.6314670943976491, Value: 96\n",
      "                                        L--- Key: 0.6219458369482849, Value: 74\n",
      "                                            L--- Key: 0.60374446881213, Value: 87\n",
      "                                                L--- None\n",
      "                                                R--- None\n",
      "                                            R--- None\n",
      "                                        R--- Key: 0.6854334597862423, Value: 92\n",
      "                                            L--- Key: 0.6823083039146971, Value: 90\n",
      "                                                L--- Key: 0.6435785344963193, Value: 68\n",
      "                                                    L--- None\n",
      "                                                    R--- Key: 0.6809878086949424, Value: 66\n",
      "                                                        L--- Key: 0.6770396252976656, Value: 75\n",
      "                                                            L--- None\n",
      "                                                            R--- None\n",
      "                                                        R--- None\n",
      "                                                R--- None\n",
      "                                            R--- Key: 0.7679088424110408, Value: 88\n",
      "                                                L--- Key: 0.695451755162805, Value: 79\n",
      "                                                    L--- None\n",
      "                                                    R--- Key: 0.7154304335143195, Value: 83\n",
      "                                                        L--- None\n",
      "                                                        R--- Key: 0.7317148069873484, Value: 85\n",
      "                                                            L--- None\n",
      "                                                            R--- None\n",
      "                                                R--- None\n",
      "                                R--- None\n",
      "                            R--- None\n",
      "                    R--- Key: 0.7972732138940176, Value: 100\n",
      "                        L--- None\n",
      "                        R--- None\n",
      "                R--- Key: 0.9496622867584812, Value: 86\n",
      "                    L--- Key: 0.9047857925426408, Value: 77\n",
      "                        L--- None\n",
      "                        R--- None\n",
      "                    R--- None\n",
      "            R--- None\n"
     ]
    }
   ],
   "source": [
    "def print_tree(node, level=0, prefix=\"Root:\"):\n",
    "        if node is not None:\n",
    "            # Print the current node\n",
    "            print(\"    \" * level + prefix + f\" Key: {node.key}, Value: {node.value}\")\n",
    "            \n",
    "            # Print the left child\n",
    "            if node.left is not None:\n",
    "                print_tree(node.left, level + 1, \"L---\")\n",
    "            else:\n",
    "                print(\"    \" * (level + 1) + \"L--- None\")\n",
    "            \n",
    "            # Print the right child\n",
    "            if node.right is not None:\n",
    "                print_tree(node.right, level + 1, \"R---\")\n",
    "            else:\n",
    "                print(\"    \" * (level + 1) + \"R--- None\")\n",
    "                \n",
    "# Pretty print the tree\n",
    "print_tree(tree.root)"
   ]
  },
  {
   "cell_type": "code",
   "execution_count": 9,
   "metadata": {},
   "outputs": [
    {
     "name": "stdout",
     "output_type": "stream",
     "text": [
      "b'\\xb7Shw\\x83D_G\\x1fv4\\x04{\\x14\\x9b#\\x08\\x0b\\xaa%A|\\x08\\x9c\\x9b\\x01\\xf8\\xb1b\\xebz\\x1ad\\x95\\xc7.' [(71, 240), (78, 29), (76, 36), (80, 39), (89, 218), (67, 7), (97, 62), (65, 6), (81, 78), (70, 48), (84, 96), (95, 91), (91, 32), (73, 93), (94, 197), (82, 113), (69, 77), (72, 67), (93, 247), (98, 71), (99, 34), (96, 28), (74, 66), (87, 203), (92, 199), (90, 91), (68, 188), (66, 243), (75, 41), (88, 179), (79, 53), (83, 73), (85, 49), (100, 241), (86, 145), (77, 99)]\n"
     ]
    }
   ],
   "source": [
    "# our encode tree is working!\n",
    "def _encode_and_rerandom(tree):\n",
    "    _reset_random()\n",
    "    global _recorder\n",
    "    _recorder = []\n",
    "    _encoded = encode_tree(tree)\n",
    "    _reset_random()\n",
    "    return _encoded, _recorder\n",
    "    \n",
    "_encoded, _r = _encode_and_rerandom(tree.root)\n",
    "print(_encoded, _r)\n",
    "assert _encoded == b'\\xb7Shw\\x83D_G\\x1fv4\\x04{\\x14\\x9b#\\x08\\x0b\\xaa%A|\\x08\\x9c\\x9b\\x01\\xf8\\xb1b\\xebz\\x1ad\\x95\\xc7.'"
   ]
  },
  {
   "cell_type": "code",
   "execution_count": 10,
   "metadata": {},
   "outputs": [
    {
     "data": {
      "text/plain": [
       "[6,\n",
       " 13,\n",
       " 11,\n",
       " 15,\n",
       " 24,\n",
       " 2,\n",
       " 32,\n",
       " 0,\n",
       " 16,\n",
       " 5,\n",
       " 19,\n",
       " 30,\n",
       " 26,\n",
       " 8,\n",
       " 29,\n",
       " 17,\n",
       " 4,\n",
       " 7,\n",
       " 28,\n",
       " 33,\n",
       " 34,\n",
       " 31,\n",
       " 9,\n",
       " 22,\n",
       " 27,\n",
       " 25,\n",
       " 3,\n",
       " 1,\n",
       " 10,\n",
       " 23,\n",
       " 14,\n",
       " 18,\n",
       " 20,\n",
       " 35,\n",
       " 21,\n",
       " 12]"
      ]
     },
     "execution_count": 10,
     "metadata": {},
     "output_type": "execute_result"
    }
   ],
   "source": [
    "_order_of_ele = [c[0] - ord('A') for c in _r]\n",
    "_order_of_ele_rev = [-1] * 36\n",
    "for i, c in enumerate(_order_of_ele):\n",
    "    _order_of_ele_rev[c] = i\n",
    "_order_of_ele"
   ]
  },
  {
   "cell_type": "code",
   "execution_count": 11,
   "metadata": {},
   "outputs": [
    {
     "data": {
      "text/plain": [
       "[240,\n",
       " 29,\n",
       " 36,\n",
       " 39,\n",
       " 218,\n",
       " 7,\n",
       " 62,\n",
       " 6,\n",
       " 78,\n",
       " 48,\n",
       " 96,\n",
       " 91,\n",
       " 32,\n",
       " 93,\n",
       " 197,\n",
       " 113,\n",
       " 77,\n",
       " 67,\n",
       " 247,\n",
       " 71,\n",
       " 34,\n",
       " 28,\n",
       " 66,\n",
       " 203,\n",
       " 199,\n",
       " 91,\n",
       " 188,\n",
       " 243,\n",
       " 41,\n",
       " 179,\n",
       " 53,\n",
       " 73,\n",
       " 49,\n",
       " 241,\n",
       " 145,\n",
       " 99]"
      ]
     },
     "execution_count": 11,
     "metadata": {},
     "output_type": "execute_result"
    }
   ],
   "source": [
    "randints = [e[1] for e in _r]\n",
    "randints"
   ]
  },
  {
   "cell_type": "code",
   "execution_count": 12,
   "metadata": {},
   "outputs": [
    {
     "data": {
      "text/plain": [
       "b'\\xb7Shw\\x83D_G\\x1fv4\\x04{\\x14\\x9b#\\x08\\x0b\\xaa%A|\\x08\\x9c\\x9b\\x01\\xf8\\xb1b\\xebz\\x1ad\\x95\\xc7.'"
      ]
     },
     "execution_count": 12,
     "metadata": {},
     "output_type": "execute_result"
    }
   ],
   "source": [
    "_encoded"
   ]
  },
  {
   "cell_type": "code",
   "execution_count": 13,
   "metadata": {},
   "outputs": [
    {
     "data": {
      "text/plain": [
       "36"
      ]
     },
     "execution_count": 13,
     "metadata": {},
     "output_type": "execute_result"
    }
   ],
   "source": [
    "len(_encoded)"
   ]
  },
  {
   "cell_type": "code",
   "execution_count": 14,
   "metadata": {},
   "outputs": [
    {
     "data": {
      "text/plain": [
       "36"
      ]
     },
     "execution_count": 14,
     "metadata": {},
     "output_type": "execute_result"
    }
   ],
   "source": [
    "len(_r)"
   ]
  },
  {
   "cell_type": "code",
   "execution_count": 15,
   "metadata": {},
   "outputs": [
    {
     "data": {
      "text/plain": [
       "[(71, 240),\n",
       " (78, 29),\n",
       " (76, 36),\n",
       " (80, 39),\n",
       " (89, 218),\n",
       " (67, 7),\n",
       " (97, 62),\n",
       " (65, 6),\n",
       " (81, 78),\n",
       " (70, 48),\n",
       " (84, 96),\n",
       " (95, 91),\n",
       " (91, 32),\n",
       " (73, 93),\n",
       " (94, 197),\n",
       " (82, 113),\n",
       " (69, 77),\n",
       " (72, 67),\n",
       " (93, 247),\n",
       " (98, 71),\n",
       " (99, 34),\n",
       " (96, 28),\n",
       " (74, 66),\n",
       " (87, 203),\n",
       " (92, 199),\n",
       " (90, 91),\n",
       " (68, 188),\n",
       " (66, 243),\n",
       " (75, 41),\n",
       " (88, 179),\n",
       " (79, 53),\n",
       " (83, 73),\n",
       " (85, 49),\n",
       " (100, 241),\n",
       " (86, 145),\n",
       " (77, 99)]"
      ]
     },
     "execution_count": 15,
     "metadata": {},
     "output_type": "execute_result"
    }
   ],
   "source": [
    "_r"
   ]
  },
  {
   "cell_type": "code",
   "execution_count": 16,
   "metadata": {},
   "outputs": [
    {
     "data": {
      "text/plain": [
       "b'\\xb7Shw\\x83D_G\\x1fv4\\x04{\\x14\\x9b#\\x08\\x0b\\xaa%A|\\x08\\x9c\\x9b\\x01\\xf8\\xb1b\\xebz\\x1ad\\x95\\xc7.'"
      ]
     },
     "execution_count": 16,
     "metadata": {},
     "output_type": "execute_result"
    }
   ],
   "source": [
    "_encoded"
   ]
  },
  {
   "cell_type": "code",
   "execution_count": 17,
   "metadata": {},
   "outputs": [
    {
     "data": {
      "text/plain": [
       "'ec47254583c83ac0ef2ee60a0cf2cf662d096cb601f5b428f02643945bf0058d3b72ce88'"
      ]
     },
     "execution_count": 17,
     "metadata": {},
     "output_type": "execute_result"
    }
   ],
   "source": [
    "base64.b64decode(\"7EclRYPIOsDvLuYKDPLPZi0JbLYB9bQo8CZDlFvwBY07cs6I\").hex()"
   ]
  },
  {
   "cell_type": "code",
   "execution_count": 18,
   "metadata": {},
   "outputs": [
    {
     "data": {
      "text/plain": [
       "'ABCDEFGHIJKLMNOPQRSTUVWXYZ[\\\\]^_`abcd'"
      ]
     },
     "execution_count": 18,
     "metadata": {},
     "output_type": "execute_result"
    }
   ],
   "source": [
    "def recover_flag(encoded, randints, order_of_ele_rev):\n",
    "    _decoded = []\n",
    "    for i, s in enumerate(encoded):\n",
    "        t = s ^ randints[i]\n",
    "        if not 0x20 <= t <= 0x7E:\n",
    "            print(i, f'{s}^{randints[i]}={t} is not printable')\n",
    "        _decoded.append(t)\n",
    "    _recovered = ''.join([chr(c) for c in _decoded])\n",
    "    # undo shuffle\n",
    "    _recovered = ''.join([_recovered[order_of_ele_rev[i]] for i in range(36)])\n",
    "    return _recovered\n",
    "\n",
    "recover_flag(_encoded, randints, _order_of_ele_rev)"
   ]
  },
  {
   "cell_type": "code",
   "execution_count": 19,
   "metadata": {},
   "outputs": [
    {
     "name": "stdout",
     "output_type": "stream",
     "text": [
      "AAAAAAAAAAAAAAAAAAAAAAAAAAAAAAAAAAA\n"
     ]
    }
   ],
   "source": [
    "print('A' * 35)"
   ]
  },
  {
   "cell_type": "code",
   "execution_count": 20,
   "metadata": {},
   "outputs": [
    {
     "name": "stdout",
     "output_type": "stream",
     "text": [
      "0 236^240=28 is not printable\n",
      "2 37^36=1 is not printable\n",
      "5 200^7=207 is not printable\n",
      "6 58^62=4 is not printable\n",
      "7 192^6=198 is not printable\n",
      "8 239^78=161 is not printable\n",
      "9 46^48=30 is not printable\n",
      "10 230^96=134 is not printable\n",
      "13 242^93=175 is not printable\n",
      "14 207^197=10 is not printable\n",
      "15 102^113=23 is not printable\n",
      "18 108^247=155 is not printable\n",
      "19 182^71=241 is not printable\n",
      "21 245^28=233 is not printable\n",
      "22 180^66=246 is not printable\n",
      "23 40^203=227 is not printable\n",
      "26 67^188=255 is not printable\n",
      "31 141^73=196 is not printable\n",
      "32 59^49=10 is not printable\n",
      "33 114^241=131 is not printable\n",
      "35 136^99=235 is not printable\n"
     ]
    },
    {
     "data": {
      "text/plain": [
       "'ÆgÏÿ`\\x1e\\x1cJ¯ör\\x01ëZ0b¡\\x17Ä\\x86\\n_ãCY},7\\x9b\\nQé\\x04ñ#\\x83'"
      ]
     },
     "execution_count": 20,
     "metadata": {},
     "output_type": "execute_result"
    }
   ],
   "source": [
    "recover_flag(base64.b64decode(\"7EclRYPIOsDvLuYKDPLPZi0JbLYB9bQo8CZDlFvwBY07cs6I\"), randints, _order_of_ele_rev)"
   ]
  },
  {
   "cell_type": "code",
   "execution_count": 21,
   "metadata": {},
   "outputs": [
    {
     "name": "stdout",
     "output_type": "stream",
     "text": [
      "666c61677b\n"
     ]
    }
   ],
   "source": [
    "_truth_start = 'flag{'.encode('ascii')\n",
    "print(_truth_start.hex())"
   ]
  },
  {
   "cell_type": "code",
   "execution_count": 31,
   "metadata": {},
   "outputs": [
    {
     "name": "stdout",
     "output_type": "stream",
     "text": [
      "flag{QCDDOBVEBFWSSEWHGDGNIFFQFUDWCF}\n"
     ]
    }
   ],
   "source": [
    "# generate a fake flag of length 36\n",
    "\n",
    "_reset_random()\n",
    "_fake_flag = \"flag{\" + ''.join([chr(random.randint(0x42,0x58)) for _ in range(30)]) + \"}\"\n",
    "_reset_random()\n",
    "print(_fake_flag)"
   ]
  },
  {
   "cell_type": "code",
   "execution_count": 32,
   "metadata": {},
   "outputs": [
    {
     "data": {
      "text/plain": [
       "'flag{QCDDOBVEBFWSSEWHGDGNIFFQFUDWCF}'"
      ]
     },
     "execution_count": 32,
     "metadata": {},
     "output_type": "execute_result"
    }
   ],
   "source": [
    "recover_flag(b'\\xb3_rp\\x94fi`\\x1da7\\x0ef\\x19\\x83\"6\\x07\\xa6\\x04dX\\r\\x8f\\x81\\x12\\xdb\\x9fk\\xf4s\\x0cy\\x8c\\xd6&', randints, _order_of_ele_rev)"
   ]
  },
  {
   "cell_type": "code",
   "execution_count": 16,
   "metadata": {},
   "outputs": [
    {
     "data": {
      "text/plain": [
       "[240,\n",
       " 29,\n",
       " 36,\n",
       " 39,\n",
       " 218,\n",
       " 7,\n",
       " 62,\n",
       " 6,\n",
       " 78,\n",
       " 48,\n",
       " 96,\n",
       " 91,\n",
       " 32,\n",
       " 93,\n",
       " 197,\n",
       " 113,\n",
       " 77,\n",
       " 67,\n",
       " 247,\n",
       " 71,\n",
       " 34,\n",
       " 28,\n",
       " 66,\n",
       " 203,\n",
       " 199,\n",
       " 91,\n",
       " 188,\n",
       " 243,\n",
       " 41,\n",
       " 179,\n",
       " 53,\n",
       " 73,\n",
       " 49,\n",
       " 241,\n",
       " 145,\n",
       " 99]"
      ]
     },
     "execution_count": 16,
     "metadata": {},
     "output_type": "execute_result"
    }
   ],
   "source": [
    "randints"
   ]
  },
  {
   "cell_type": "code",
   "execution_count": 17,
   "metadata": {},
   "outputs": [
    {
     "data": {
      "text/plain": [
       "b'//////////////////////////////////////////////8='"
      ]
     },
     "execution_count": 17,
     "metadata": {},
     "output_type": "execute_result"
    }
   ],
   "source": [
    "base64.b64encode(b'\\xFF'*35)"
   ]
  }
 ],
 "metadata": {
  "kernelspec": {
   "display_name": "test38",
   "language": "python",
   "name": "python3"
  },
  "language_info": {
   "codemirror_mode": {
    "name": "ipython",
    "version": 3
   },
   "file_extension": ".py",
   "mimetype": "text/x-python",
   "name": "python",
   "nbconvert_exporter": "python",
   "pygments_lexer": "ipython3",
   "version": "3.8.18"
  }
 },
 "nbformat": 4,
 "nbformat_minor": 2
}
