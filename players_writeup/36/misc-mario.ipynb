{
 "cells": [
  {
   "cell_type": "markdown",
   "metadata": {},
   "source": [
    "## TAS概论大作业\n",
    "\n",
    "这道题的本质是小北问答。\n",
    "\n",
    "啥是TAS？我们先完整的看一眼题面，题面里有一个指向[维基百科](https://en.wikipedia.org/wiki/Tool-assisted_speedrun) 的链接，里面提到了最出名的TAS网站是TASVideos，这个网站上有很多TAS视频，这些视频是由玩家通过FCUEX等模拟器录制的；TAS视频通用的格式是`.fm2`，记录了玩家的操作。[这个链接](https://tasvideos.org/UserFiles/Game/1) 列出了超级马里奥原版所有的TAS视频。"
   ]
  },
  {
   "cell_type": "markdown",
   "metadata": {},
   "source": [
    "### Flag1\n",
    "\n",
    "我们随便找一个通关视频，比如[这个](https://tasvideos.org/UserFiles/Info/638299890161620815)。注意题目需要的输入是bin格式的，我们需要先写一段代码把fm2转成bin。"
   ]
  },
  {
   "cell_type": "code",
   "execution_count": 1,
   "metadata": {},
   "outputs": [],
   "source": [
    "BUTTONS = ['A', 'B', 'S', 'T', 'U', 'D', 'L', 'R']\n",
    "\n",
    "\n",
    "def int_to_input(i: int) -> str:\n",
    "  '''\n",
    "  Converts a byte to a string of 8 buttons.\n",
    "  '''\n",
    "  buttons = ''.join(BUTTONS[b] if (i & (1 << b)) else '.'\n",
    "                    for b in range(7, -1, -1))\n",
    "  return f'|0|{buttons}|........||\\n'\n",
    "\n",
    "def input_to_int(s: str) -> int:\n",
    "  '''\n",
    "  Converts a string of 8 buttons to a byte.\n",
    "  '''\n",
    "  buttons = s[3:11]\n",
    "  i = 0\n",
    "  for b, button in enumerate(buttons):\n",
    "    if button != '.':\n",
    "      i |= 1 << (7 - b)\n",
    "  return i\n",
    "\n",
    "def fm2_to_bin(filename: str):\n",
    "    _bin = []\n",
    "    with open(filename) as f:\n",
    "        for l in f.readlines():\n",
    "            if not l.startswith('|0|'):\n",
    "                continue\n",
    "            _bin.append(input_to_int(l))\n",
    "        \n",
    "    # convert to bytes\n",
    "    bin = bytes(_bin) # |1|\n",
    "    # save to file\n",
    "    with open(filename + '.bin', 'wb') as f:\n",
    "        f.write(bin)\n",
    "        \n",
    "fm2_to_bin('anypercent.fm2')"
   ]
  },
  {
   "cell_type": "markdown",
   "metadata": {},
   "source": [
    "欸不对，怎么在3-1之后就似了？看看第一阶段的提示：\n",
    "\n",
    "> 为了兼容不同模拟器输出的录像格式，bin2fm2.py 会在生成的 FM2 文件开头插入一帧用来执行红白机的复位操作，请检查你提交的文件开头是否多/少了一帧的输入。\n",
    "\n",
    "把第一帧改成`1`，再转成bin，再提交，就可以得到flag1了。"
   ]
  },
  {
   "cell_type": "markdown",
   "metadata": {},
   "source": [
    "### Flag2\n",
    "\n",
    "故技重施，找一段[在-1关结束的TAS视频](https://tasvideos.org/UserFiles/Info/638619947992862452)。"
   ]
  }
 ],
 "metadata": {
  "kernelspec": {
   "display_name": "base",
   "language": "python",
   "name": "python3"
  },
  "language_info": {
   "codemirror_mode": {
    "name": "ipython",
    "version": 3
   },
   "file_extension": ".py",
   "mimetype": "text/x-python",
   "name": "python",
   "nbconvert_exporter": "python",
   "pygments_lexer": "ipython3",
   "version": "3.10.10"
  }
 },
 "nbformat": 4,
 "nbformat_minor": 2
}
